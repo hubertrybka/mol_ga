{
 "nbformat": 4,
 "nbformat_minor": 0,
 "metadata": {
  "colab": {
   "name": "Molecular-VAE-final",
   "provenance": [],
   "include_colab_link": true
  },
  "kernelspec": {
   "name": "python3",
   "display_name": "Python 3 (ipykernel)",
   "language": "python"
  },
  "accelerator": "GPU"
 },
 "cells": [
  {
   "cell_type": "markdown",
   "metadata": {
    "id": "view-in-github",
    "colab_type": "text"
   },
   "source": [
    "<a href=\"https://colab.research.google.com/github/aksub99/molecular-vae/blob/master/Molecular_VAE.ipynb\" target=\"_parent\"><img src=\"https://colab.research.google.com/assets/colab-badge.svg\" alt=\"Open In Colab\"/></a>"
   ]
  },
  {
   "cell_type": "code",
   "metadata": {
    "id": "oZ7Cl9tzTCl-",
    "colab_type": "code",
    "colab": {},
    "ExecuteTime": {
     "end_time": "2024-11-07T16:27:52.215292Z",
     "start_time": "2024-11-07T16:27:50.862287Z"
    }
   },
   "source": [
    "import torch\n",
    "import torch.nn as nn\n",
    "import torch.nn.functional as F\n",
    "import torch.utils.data\n",
    "import gzip\n",
    "import pandas\n",
    "import h5py\n",
    "import numpy as np\n",
    "from __future__ import print_function\n",
    "import argparse\n",
    "import os\n",
    "import h5py\n",
    "import torch.optim as optim\n",
    "from torch.optim.lr_scheduler import ReduceLROnPlateau\n",
    "from sklearn import model_selection"
   ],
   "outputs": [],
   "execution_count": 2
  },
  {
   "cell_type": "code",
   "metadata": {
    "id": "7aXdqRqQTLEX",
    "colab_type": "code",
    "colab": {},
    "ExecuteTime": {
     "end_time": "2024-11-07T16:27:52.817254Z",
     "start_time": "2024-11-07T16:27:52.802906Z"
    }
   },
   "source": [
    "def one_hot_array(i, n):\n",
    "    return map(int, [ix == i for ix in xrange(n)])\n",
    "\n",
    "def one_hot_index(vec, charset):\n",
    "    return map(charset.index, vec)\n",
    "\n",
    "def from_one_hot_array(vec):\n",
    "    oh = np.where(vec == 1)\n",
    "    if oh[0].shape == (0, ):\n",
    "        return None\n",
    "    return int(oh[0][0])\n",
    "\n",
    "def decode_smiles_from_indexes(vec, charset):\n",
    "    return \"\".join(map(lambda x: charset[x], vec)).strip()\n",
    "\n",
    "def load_dataset(filename, split = True):\n",
    "    h5f = h5py.File(filename, 'r')\n",
    "    if split:\n",
    "        data_train = h5f['data_train'][:]\n",
    "    else:\n",
    "        data_train = None\n",
    "    data_test = h5f['data_test'][:]\n",
    "    charset =  h5f['charset'][:]\n",
    "    h5f.close()\n",
    "    if split:\n",
    "        return (data_train, data_test, charset)\n",
    "    else:\n",
    "        return (data_test, charset)\n"
   ],
   "outputs": [],
   "execution_count": 3
  },
  {
   "cell_type": "code",
   "metadata": {
    "id": "HGAirp3UUDmt",
    "colab_type": "code",
    "colab": {},
    "ExecuteTime": {
     "end_time": "2024-11-07T16:27:53.653074Z",
     "start_time": "2024-11-07T16:27:53.634027Z"
    }
   },
   "source": [
    "class MolecularVAE(nn.Module):\n",
    "    def __init__(self):\n",
    "        super(MolecularVAE, self).__init__()\n",
    "\n",
    "        self.conv_1 = nn.Conv1d(120, 9, kernel_size=9)\n",
    "        self.conv_2 = nn.Conv1d(9, 9, kernel_size=9)\n",
    "        self.conv_3 = nn.Conv1d(9, 10, kernel_size=11)\n",
    "        self.linear_0 = nn.Linear(70, 435)\n",
    "        self.linear_1 = nn.Linear(435, 292)\n",
    "        self.linear_2 = nn.Linear(435, 292)\n",
    "\n",
    "        self.linear_3 = nn.Linear(292, 292)\n",
    "        self.gru = nn.GRU(292, 501, 3, batch_first=True)\n",
    "        self.linear_4 = nn.Linear(501, 33)\n",
    "        \n",
    "        self.relu = nn.ReLU()\n",
    "        self.softmax = nn.Softmax()\n",
    "\n",
    "    def encode(self, x):\n",
    "        x = self.relu(self.conv_1(x))\n",
    "        x = self.relu(self.conv_2(x))\n",
    "        x = self.relu(self.conv_3(x))\n",
    "        x = x.view(x.size(0), -1)\n",
    "        x = F.selu(self.linear_0(x))\n",
    "        return self.linear_1(x), self.linear_2(x)\n",
    "\n",
    "    def sampling(self, z_mean, z_logvar):\n",
    "        epsilon = 1e-2 * torch.randn_like(z_logvar)\n",
    "        return torch.exp(0.5 * z_logvar) * epsilon + z_mean\n",
    "\n",
    "    def decode(self, z):\n",
    "        z = F.selu(self.linear_3(z))\n",
    "        z = z.view(z.size(0), 1, z.size(-1)).repeat(1, 120, 1)\n",
    "        output, hn = self.gru(z)\n",
    "        out_reshape = output.contiguous().view(-1, output.size(-1))\n",
    "        y0 = F.softmax(self.linear_4(out_reshape), dim=1)\n",
    "        y = y0.contiguous().view(output.size(0), -1, y0.size(-1))\n",
    "        return y\n",
    "\n",
    "    def forward(self, x):\n",
    "        z_mean, z_logvar = self.encode(x)\n",
    "        z = self.sampling(z_mean, z_logvar)\n",
    "        return self.decode(z), z_mean, z_logvar"
   ],
   "outputs": [],
   "execution_count": 4
  },
  {
   "cell_type": "code",
   "metadata": {
    "id": "psCpULS_AQMg",
    "colab_type": "code",
    "outputId": "277f9955-2151-4538-d057-36004bad8b6e",
    "colab": {
     "base_uri": "https://localhost:8080/",
     "height": 156
    },
    "ExecuteTime": {
     "end_time": "2024-11-07T16:28:13.943664Z",
     "start_time": "2024-11-07T16:28:07.880945Z"
    }
   },
   "source": [
    "!rm -R 'molecular-vae'\n",
    "!git clone https://github.com/aksub99/molecular-vae.git\n",
    "import zipfile\n",
    "zip_ref = zipfile.ZipFile('molecular-vae/data/processed.zip', 'r')\n",
    "zip_ref.extractall('molecular-vae/data/')\n",
    "zip_ref.close()\n"
   ],
   "outputs": [
    {
     "name": "stdout",
     "output_type": "stream",
     "text": [
      "rm: cannot remove 'molecular-vae': No such file or directory\r\n",
      "Cloning into 'molecular-vae'...\r\n",
      "remote: Enumerating objects: 188, done.\u001B[K\r\n",
      "remote: Counting objects: 100% (3/3), done.\u001B[K\r\n",
      "remote: Compressing objects: 100% (3/3), done.\u001B[K\r\n",
      "remote: Total 188 (delta 0), reused 1 (delta 0), pack-reused 185 (from 1)\u001B[K\r\n",
      "Receiving objects: 100% (188/188), 2.99 MiB | 5.20 MiB/s, done.\r\n",
      "Resolving deltas: 100% (95/95), done.\r\n"
     ]
    }
   ],
   "execution_count": 5
  },
  {
   "metadata": {
    "ExecuteTime": {
     "end_time": "2024-11-07T16:32:40.630045Z",
     "start_time": "2024-11-07T16:32:39.669556Z"
    }
   },
   "cell_type": "code",
   "source": [
    "data_train, data_test, charset = load_dataset('molecular-vae/data/processed.h5')\n",
    "data_train = torch.utils.data.TensorDataset(torch.from_numpy(data_train))\n",
    "train_loader = torch.utils.data.DataLoader(data_train, batch_size=32, shuffle=True)"
   ],
   "outputs": [],
   "execution_count": 24
  },
  {
   "cell_type": "code",
   "metadata": {
    "id": "5r0gV2l-AtAS",
    "colab_type": "code",
    "outputId": "cc362b8d-7133-4832-b714-902884242e6e",
    "colab": {
     "base_uri": "https://localhost:8080/",
     "height": 1000
    },
    "ExecuteTime": {
     "end_time": "2024-11-07T16:32:40.873085Z",
     "start_time": "2024-11-07T16:32:40.658215Z"
    }
   },
   "source": [
    "def vae_loss(x_decoded_mean, x, z_mean, z_logvar):\n",
    "    xent_loss = F.binary_cross_entropy(x_decoded_mean, x, size_average=False)\n",
    "    kl_loss = -0.5 * torch.sum(1 + z_logvar - z_mean.pow(2) - z_logvar.exp())\n",
    "    return xent_loss + kl_loss\n",
    "\n",
    "torch.manual_seed(42)\n",
    "\n",
    "epochs = 30\n",
    "device = 'cuda' if torch.cuda.is_available() else 'cpu'\n",
    "\n",
    "model = MolecularVAE().to(device)\n",
    "optimizer = optim.Adam(model.parameters())\n",
    "\n",
    "def train(epoch):\n",
    "    model.train()\n",
    "    train_loss = 0\n",
    "    for batch_idx, data in enumerate(train_loader):\n",
    "        data = data[0].to(device)\n",
    "        optimizer.zero_grad()\n",
    "        output, mean, logvar = model(data)\n",
    "        \n",
    "        if batch_idx==0:\n",
    "              inp = data.cpu().numpy()\n",
    "              outp = output.cpu().detach().numpy()\n",
    "              lab = data.cpu().numpy()\n",
    "              print(\"Input:\")\n",
    "              print(decode_smiles_from_indexes(map(from_one_hot_array, inp[0]), charset))\n",
    "              print(\"Label:\")\n",
    "              print(decode_smiles_from_indexes(map(from_one_hot_array, lab[0]), charset))\n",
    "              sampled = outp[0].reshape(1, 120, len(charset)).argmax(axis=2)[0]\n",
    "              print(\"Output:\")\n",
    "              print(decode_smiles_from_indexes(sampled, charset))\n",
    "        \n",
    "        loss = vae_loss(output, data, mean, logvar)\n",
    "        loss.backward()\n",
    "        train_loss += loss\n",
    "        optimizer.step()\n",
    "#         if batch_idx % 100 == 0:\n",
    "#             print(f'{epoch} / {batch_idx}\\t{loss:.4f}')\n",
    "    print('train', train_loss / len(train_loader.dataset))\n",
    "    return train_loss / len(train_loader.dataset)\n",
    "\n",
    "for epoch in range(1, epochs + 1):\n",
    "    train_loss = train(epoch)"
   ],
   "outputs": [
    {
     "name": "stdout",
     "output_type": "stream",
     "text": [
      "Input:\n"
     ]
    },
    {
     "ename": "TypeError",
     "evalue": "sequence item 0: expected str instance, numpy.bytes_ found",
     "output_type": "error",
     "traceback": [
      "\u001B[0;31m---------------------------------------------------------------------------\u001B[0m",
      "\u001B[0;31mTypeError\u001B[0m                                 Traceback (most recent call last)",
      "Cell \u001B[0;32mIn[25], line 44\u001B[0m\n\u001B[1;32m     41\u001B[0m     \u001B[38;5;28;01mreturn\u001B[39;00m train_loss \u001B[38;5;241m/\u001B[39m \u001B[38;5;28mlen\u001B[39m(train_loader\u001B[38;5;241m.\u001B[39mdataset)\n\u001B[1;32m     43\u001B[0m \u001B[38;5;28;01mfor\u001B[39;00m epoch \u001B[38;5;129;01min\u001B[39;00m \u001B[38;5;28mrange\u001B[39m(\u001B[38;5;241m1\u001B[39m, epochs \u001B[38;5;241m+\u001B[39m \u001B[38;5;241m1\u001B[39m):\n\u001B[0;32m---> 44\u001B[0m     train_loss \u001B[38;5;241m=\u001B[39m \u001B[43mtrain\u001B[49m\u001B[43m(\u001B[49m\u001B[43mepoch\u001B[49m\u001B[43m)\u001B[49m\n",
      "Cell \u001B[0;32mIn[25], line 27\u001B[0m, in \u001B[0;36mtrain\u001B[0;34m(epoch)\u001B[0m\n\u001B[1;32m     25\u001B[0m lab \u001B[38;5;241m=\u001B[39m data\u001B[38;5;241m.\u001B[39mcpu()\u001B[38;5;241m.\u001B[39mnumpy()\n\u001B[1;32m     26\u001B[0m \u001B[38;5;28mprint\u001B[39m(\u001B[38;5;124m\"\u001B[39m\u001B[38;5;124mInput:\u001B[39m\u001B[38;5;124m\"\u001B[39m)\n\u001B[0;32m---> 27\u001B[0m \u001B[38;5;28mprint\u001B[39m(\u001B[43mdecode_smiles_from_indexes\u001B[49m\u001B[43m(\u001B[49m\u001B[38;5;28;43mmap\u001B[39;49m\u001B[43m(\u001B[49m\u001B[43mfrom_one_hot_array\u001B[49m\u001B[43m,\u001B[49m\u001B[43m \u001B[49m\u001B[43minp\u001B[49m\u001B[43m[\u001B[49m\u001B[38;5;241;43m0\u001B[39;49m\u001B[43m]\u001B[49m\u001B[43m)\u001B[49m\u001B[43m,\u001B[49m\u001B[43m \u001B[49m\u001B[43mcharset\u001B[49m\u001B[43m)\u001B[49m)\n\u001B[1;32m     28\u001B[0m \u001B[38;5;28mprint\u001B[39m(\u001B[38;5;124m\"\u001B[39m\u001B[38;5;124mLabel:\u001B[39m\u001B[38;5;124m\"\u001B[39m)\n\u001B[1;32m     29\u001B[0m \u001B[38;5;28mprint\u001B[39m(decode_smiles_from_indexes(\u001B[38;5;28mmap\u001B[39m(from_one_hot_array, lab[\u001B[38;5;241m0\u001B[39m]), charset))\n",
      "Cell \u001B[0;32mIn[3], line 14\u001B[0m, in \u001B[0;36mdecode_smiles_from_indexes\u001B[0;34m(vec, charset)\u001B[0m\n\u001B[1;32m     13\u001B[0m \u001B[38;5;28;01mdef\u001B[39;00m \u001B[38;5;21mdecode_smiles_from_indexes\u001B[39m(vec, charset):\n\u001B[0;32m---> 14\u001B[0m     \u001B[38;5;28;01mreturn\u001B[39;00m \u001B[38;5;124;43m\"\u001B[39;49m\u001B[38;5;124;43m\"\u001B[39;49m\u001B[38;5;241;43m.\u001B[39;49m\u001B[43mjoin\u001B[49m\u001B[43m(\u001B[49m\u001B[38;5;28;43mmap\u001B[39;49m\u001B[43m(\u001B[49m\u001B[38;5;28;43;01mlambda\u001B[39;49;00m\u001B[43m \u001B[49m\u001B[43mx\u001B[49m\u001B[43m:\u001B[49m\u001B[43m \u001B[49m\u001B[43mcharset\u001B[49m\u001B[43m[\u001B[49m\u001B[43mx\u001B[49m\u001B[43m]\u001B[49m\u001B[43m,\u001B[49m\u001B[43m \u001B[49m\u001B[43mvec\u001B[49m\u001B[43m)\u001B[49m\u001B[43m)\u001B[49m\u001B[38;5;241m.\u001B[39mstrip()\n",
      "\u001B[0;31mTypeError\u001B[0m: sequence item 0: expected str instance, numpy.bytes_ found"
     ]
    }
   ],
   "execution_count": 25
  },
  {
   "cell_type": "code",
   "metadata": {
    "id": "WuPZnm-aYPLu",
    "colab_type": "code",
    "colab": {}
   },
   "source": [
    ""
   ],
   "execution_count": 0,
   "outputs": []
  }
 ]
}
